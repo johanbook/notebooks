{
 "cells": [
  {
   "cell_type": "markdown",
   "id": "27d14915",
   "metadata": {},
   "source": [
    "# Collatz Conjecture\n",
    "\n",
    "The Collatz conjucture claims that the transform $x \\rightarrow 3x+1$ if odd and $x \\rightarrow 2x$ converges to the loop 1, 4, 2 given sufficient iterations."
   ]
  },
  {
   "cell_type": "code",
   "execution_count": 11,
   "id": "88b15336",
   "metadata": {},
   "outputs": [],
   "source": [
    "odd_transform = lambda x: 3*x + 1\n",
    "even_transform = lambda x: int(x/2)\n",
    "transform = lambda x: even_transform(x) if x%2 == 0 else odd_transform(x)"
   ]
  },
  {
   "cell_type": "code",
   "execution_count": 12,
   "id": "12c6768a",
   "metadata": {},
   "outputs": [],
   "source": [
    "def create_hailstone_numbers(x):\n",
    "    numbers = [x]\n",
    "    while x != 1:\n",
    "        x = transform(x)\n",
    "        numbers.append(x)\n",
    "    return numbers"
   ]
  },
  {
   "cell_type": "code",
   "execution_count": 13,
   "id": "3232c519",
   "metadata": {},
   "outputs": [
    {
     "data": {
      "text/plain": [
       "[10, 5, 16, 8, 4, 2, 1]"
      ]
     },
     "execution_count": 13,
     "metadata": {},
     "output_type": "execute_result"
    }
   ],
   "source": [
    "create_hailstone_numbers(10)"
   ]
  },
  {
   "cell_type": "code",
   "execution_count": 14,
   "id": "b37ad934",
   "metadata": {},
   "outputs": [],
   "source": [
    "graph = {}\n"
   ]
  }
 ],
 "metadata": {
  "kernelspec": {
   "display_name": "Python 3 (ipykernel)",
   "language": "python",
   "name": "python3"
  },
  "language_info": {
   "codemirror_mode": {
    "name": "ipython",
    "version": 3
   },
   "file_extension": ".py",
   "mimetype": "text/x-python",
   "name": "python",
   "nbconvert_exporter": "python",
   "pygments_lexer": "ipython3",
   "version": "3.9.6"
  }
 },
 "nbformat": 4,
 "nbformat_minor": 5
}
