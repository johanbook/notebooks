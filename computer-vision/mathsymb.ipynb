{
 "cells": [
  {
   "cell_type": "markdown",
   "metadata": {},
   "source": [
    "This is a notebook for training a MNIST frequentist model."
   ]
  },
  {
   "cell_type": "code",
   "execution_count": 1,
   "metadata": {},
   "outputs": [],
   "source": [
    "import matplotlib.pyplot as plt\n",
    "import numpy as np\n",
    "\n",
    "from torch import save as save_state_dict\n",
    "import torch\n",
    "import torch.nn as nn\n",
    "import torch.nn.functional as F\n",
    "import torchvision.transforms as transforms\n",
    "import torchvision"
   ]
  },
  {
   "cell_type": "code",
   "execution_count": 2,
   "metadata": {},
   "outputs": [],
   "source": [
    "DEVICE = torch.device('cuda' if torch.cuda.is_available() else 'cpu')\n",
    "epochs = 10"
   ]
  },
  {
   "cell_type": "markdown",
   "metadata": {},
   "source": [
    "# Data loaders\n",
    "There are several datasets available for digit (and letter) classification. Standard is MNIST. There is also EMNIST, also has letters. There is QMNIST which is basically MNIST but larger.\n",
    "\n",
    "We will also here use data augmentation (transforms.RandomAffine) in order for the model to generalize better. Note that we apply the data augmentation to training aswell as validation data."
   ]
  },
  {
   "cell_type": "code",
   "execution_count": 88,
   "metadata": {},
   "outputs": [],
   "source": [
    "def get_data_loaders(split='digits'):\n",
    "    transform = transforms.Compose([\n",
    "        #transforms.RandomAffine(degrees=30, translate=(0.2, 0.2), scale=(0.7, 1.2)),\n",
    "        transforms.ToTensor(),\n",
    "    ])\n",
    "\n",
    "    trainset = torchvision.datasets.EMNIST(\n",
    "        root='/storage',\n",
    "        split=split,\n",
    "        train=True,\n",
    "        download=True,\n",
    "        transform=transform,\n",
    "    )\n",
    "\n",
    "    trainloader = torch.utils.data.DataLoader(\n",
    "        trainset,\n",
    "        batch_size=100,\n",
    "        shuffle=True,\n",
    "        num_workers=2,\n",
    "        pin_memory=True\n",
    "    )\n",
    "\n",
    "    testset = torchvision.datasets.EMNIST(\n",
    "        root='/storage',\n",
    "        split=split,\n",
    "        train=False,\n",
    "        download=True,\n",
    "        transform=transform,\n",
    "    )\n",
    "\n",
    "    testloader = torch.utils.data.DataLoader(\n",
    "        testset,\n",
    "        batch_size=100,\n",
    "        shuffle=True,\n",
    "        num_workers=2,\n",
    "        pin_memory=True\n",
    "    )\n",
    "    return trainloader, testloader"
   ]
  },
  {
   "cell_type": "markdown",
   "metadata": {},
   "source": [
    "Make som plots to see how data augmentation works"
   ]
  },
  {
   "cell_type": "code",
   "execution_count": 97,
   "metadata": {},
   "outputs": [
    {
     "data": {
      "image/png": "[encoded data removed]",
      "text/plain": [
       "<Figure size 432x288 with 1 Axes>"
      ]
     },
     "metadata": {
      "needs_background": "light"
     },
     "output_type": "display_data"
    }
   ],
   "source": [
    "def plot_data_augmentation():\n",
    "    train_loader, _ = get_data_loaders('letters')\n",
    "    for data, labels in train_loader:\n",
    "        sample = data[0, :, :, :].view(28, 28).numpy()\n",
    "        plt.imshow(sample, cmap='Greys')\n",
    "        plt.show()\n",
    "        break\n",
    "plot_data_augmentation()"
   ]
  },
  {
   "cell_type": "markdown",
   "metadata": {},
   "source": [
    "# Metrics\n",
    "Define some metrics so we have an easy way to measure accuracy."
   ]
  },
  {
   "cell_type": "code",
   "execution_count": null,
   "metadata": {},
   "outputs": [],
   "source": [
    "def loader_accuracy(loader, model):\n",
    "    with torch.no_grad():\n",
    "        cum_acc = 0\n",
    "        for x, y in loader:\n",
    "            cum_acc += accuracy(x.to(DEVICE), y.to(DEVICE), model)\n",
    "        return cum_acc / len(loader)\n",
    "\n",
    "\n",
    "def accuracy(x, y, model):\n",
    "    with torch.no_grad():\n",
    "        pred = model(x).argmax(dim=1, keepdim=True)\n",
    "        corrects = pred.eq(y.view_as(pred)).sum().item()\n",
    "        acc = corrects * 100 / len(x)\n",
    "        return acc"
   ]
  },
  {
   "cell_type": "markdown",
   "metadata": {},
   "source": [
    "# Model\n",
    "Here is our model. It is quite complex, but since we usse quite aggressive data augmentation, we run little risk of overtrainng."
   ]
  },
  {
   "cell_type": "code",
   "execution_count": null,
   "metadata": {},
   "outputs": [],
   "source": [
    "class Flatten(nn.Module):\n",
    "    def forward(self, x):\n",
    "        return x.view(x.size()[0], -1)\n",
    "\n",
    "\n",
    "class CNN(nn.Module):\n",
    "    def __init__(self):\n",
    "        super(CNN, self).__init__()\n",
    "        self.arch = nn.Sequential(\n",
    "            nn.Conv2d(1, 32, kernel_size=5, stride=1),\n",
    "            nn.MaxPool2d(2),\n",
    "            nn.Conv2d(32, 64, kernel_size=5, stride=1),\n",
    "            nn.MaxPool2d(2),\n",
    "\n",
    "            # 4x4 image\n",
    "\n",
    "            Flatten(),\n",
    "            nn.Linear(64*4*4, 512),\n",
    "            nn.Linear(512, 256),\n",
    "            nn.Linear(256, 10),\n",
    "        )\n",
    "\n",
    "    def forward(self, x):\n",
    "        return F.log_softmax(self.arch(x), dim=1)"
   ]
  },
  {
   "cell_type": "markdown",
   "metadata": {},
   "source": [
    "Here is our main training loop. It also produces some nice plots when it is done :)"
   ]
  },
  {
   "cell_type": "code",
   "execution_count": null,
   "metadata": {},
   "outputs": [],
   "source": [
    "def create_model(epochs=20, optim=torch.optim.Adam, lr=1e-3):\n",
    "    model = CNN()\n",
    "    model.to(DEVICE)\n",
    "    \n",
    "    losses = []\n",
    "    val_accs = []\n",
    "    train_accs = []\n",
    "    \n",
    "    train_loader, test_loader = get_data_loaders()\n",
    "    optim = optim(model.parameters(), lr=lr)\n",
    "    for epoch in range(epochs):\n",
    "        total_loss = 0\n",
    "        for data, labels in train_loader:\n",
    "            preds = model(data.to(DEVICE))\n",
    "            loss = F.cross_entropy(preds, labels)\n",
    "            loss.backward()\n",
    "            optim.step()\n",
    "            optim.zero_grad()\n",
    "            total_loss += loss.item() / len(labels)\n",
    "            \n",
    "        # Multiply loss by 100 to make it more relatable. NB: This is not a best practice\n",
    "        total_loss *= 100/len(train_loader)\n",
    "        losses.append(total_loss)\n",
    "        val_acc = loader_accuracy(test_loader, model)\n",
    "        val_accs.append(val_acc)\n",
    "        train_acc = loader_accuracy(train_loader, model)\n",
    "        train_accs.append(train_acc)\n",
    "        \n",
    "        print(f'EPOCH {epoch+1}, validation accuracy {val_acc:.2f}% loss {total_loss:.2f}')\n",
    "    \n",
    "    plt.figure(figsize=(15, 5), dpi= 80, facecolor='w', edgecolor='k')\n",
    "    plt.subplot(1, 2, 1)\n",
    "    plt.plot(train_accs, label='Training')\n",
    "    plt.plot(val_accs, label='Validation')\n",
    "    plt.legend()\n",
    "    plt.xlabel('Epoch')\n",
    "    plt.ylabel('Validation')\n",
    "    \n",
    "    plt.subplot(1, 2, 2)\n",
    "    plt.plot(losses)\n",
    "    plt.xlabel('Epoch')\n",
    "    plt.ylabel('Training loss')\n",
    "    plt.show()\n",
    "    \n",
    "    return model"
   ]
  },
  {
   "cell_type": "markdown",
   "metadata": {},
   "source": [
    "Now actually create and train a model."
   ]
  },
  {
   "cell_type": "code",
   "execution_count": null,
   "metadata": {},
   "outputs": [],
   "source": [
    "model = create_model(epochs=10)"
   ]
  },
  {
   "cell_type": "markdown",
   "metadata": {},
   "source": [
    "# Save it\n",
    "Save model statedict so we can use it elsewhere."
   ]
  },
  {
   "cell_type": "code",
   "execution_count": null,
   "metadata": {},
   "outputs": [],
   "source": [
    "def save(model, path='mnist.pt'):\n",
    "    save_state_dict(model.state_dict(), path)"
   ]
  },
  {
   "cell_type": "code",
   "execution_count": null,
   "metadata": {},
   "outputs": [],
   "source": [
    "save(model)"
   ]
  }
 ],
 "metadata": {
  "kernelspec": {
   "display_name": "Python (Torch)",
   "language": "python",
   "name": "python3"
  },
  "language_info": {
   "codemirror_mode": {
    "name": "ipython",
    "version": 3
   },
   "file_extension": ".py",
   "mimetype": "text/x-python",
   "name": "python",
   "nbconvert_exporter": "python",
   "pygments_lexer": "ipython3",
   "version": "3.7.3"
  }
 },
 "nbformat": 4,
 "nbformat_minor": 2
}
